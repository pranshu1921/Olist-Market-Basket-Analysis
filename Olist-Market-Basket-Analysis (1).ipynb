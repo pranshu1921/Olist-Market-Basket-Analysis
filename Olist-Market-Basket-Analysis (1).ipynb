{
 "cells": [
  {
   "cell_type": "markdown",
   "metadata": {},
   "source": [
    "## Market Basket Analysis in Python¶"
   ]
  },
  {
   "cell_type": "markdown",
   "metadata": {},
   "source": [
    "### Project Outcomes -\n",
    "\n",
    "1. Identify patterns in consumer decision-making with the mlxtend package.\n",
    "2. Use metrics to evaluate the properties of patterns.\n",
    "3. Construct \"rules\" that provide concrete recommendations for businesses.\n",
    "4. Visualize patterns and rules using seaborn and matplotlib."
   ]
  },
  {
   "cell_type": "markdown",
   "metadata": {},
   "source": [
    "### Dataset\n",
    "The dataeset belongs to the Brazilian ecommerce site (olist.com) that is divided into three CSV files:\n",
    "\n",
    "1. olist_order_items_dataset.csv\n",
    "2. olist_products_dataset.csv\n",
    "3. product_category_name_translation.csv\n",
    "\n",
    "Column definitions -\n",
    "\n",
    "olist_order_items_dataset.csv:\n",
    "\n",
    "- order_id: The unique identifier for a transaction.\n",
    "- order_item_id: The order of an item within a transaction.\n",
    "- product_id: The unique identifier for a product.\n",
    "- price: The product's price.\n",
    "\n",
    "olist_products_dataset.csv:\n",
    "\n",
    "- product_id: The unique identifier for a product.\n",
    "- product_category_name: The name of an item's product category in Portuguese.\n",
    "- product_weight_g: The product's weight in grams.\n",
    "- product_length_cm: The product's length in centimeters.\n",
    "- product_width_cm: The product's width in centimeters.\n",
    "- product_height_cm: The product's height in centimeters.\n",
    "\n",
    "product_category_name_translation.csv:\n",
    "\n",
    "- product_category_name: The name of an item's product category in Portuguese.\n",
    "- product_category_name_english: The name of an item's product category in English.\n",
    "\n",
    "\n",
    "\n",
    "Item: A product purchased from Olist.<br>\n",
    "itemset: A collection of one or more product(s).<br>\n",
    "Transaction: An itemset that corresponds to a customer's order."
   ]
  },
  {
   "cell_type": "markdown",
   "metadata": {},
   "source": [
    "## Data Preparation\n",
    "The first step in any Market Basket Analysis (MBA) project is to determine what constitutes an item, an itemset, and a transaction. This will depend on the dataset we're using and the question we're attempting to answer.\n",
    "\n",
    "**1. Grocery store**\n",
    "- Item: Grocery \n",
    "- Itemset: Collection of groceries \n",
    "- Transaction: Basket of items purchased \n",
    "\n",
    "**2. Music streaming service**\n",
    "- Item: Song\n",
    "- Itemset: Collection of unique songs\n",
    "- Transaction: User song library\n",
    "\n",
    "**3. Ebook store**\n",
    "- Item: Ebook\n",
    "- Itemset: One or more ebooks\n",
    "- Transaction: User ebook library\n",
    "\n",
    "**About Olist.com -**\n",
    "- 100,000+ orders over 2016-2018.\n",
    "- Olist connects sellers to marketplaces.\n",
    "- Seller can register products with Olist.\n",
    "- Customer makes purchase at marketplace from Olist store.\n",
    "- Seller fulfills orders."
   ]
  },
  {
   "cell_type": "code",
   "execution_count": 2,
   "metadata": {},
   "outputs": [],
   "source": [
    "# Import modules\n",
    "import pandas as pd\n",
    "import numpy as np\n",
    "import matplotlib.pyplot as plt\n",
    "import seaborn as sns\n",
    "\n",
    "# Set default asthetic parameters\n",
    "sns.set()"
   ]
  },
  {
   "cell_type": "code",
   "execution_count": 4,
   "metadata": {},
   "outputs": [],
   "source": [
    "# Load orders dataset\n",
    "orders = pd.read_csv('C:/Users/Princy/Downloads/olist_order_items_dataset.csv')\n",
    "\n",
    "# Load products items dataset\n",
    "products = pd.read_csv('C:/Users/Princy/Downloads/olist_products_dataset.csv')\n",
    "\n",
    "# Load translations dataset\n",
    "translations = pd.read_csv('C:/Users/Princy/Downloads/product_category_name_translation.csv')"
   ]
  },
  {
   "cell_type": "code",
   "execution_count": 5,
   "metadata": {},
   "outputs": [
    {
     "data": {
      "text/html": [
       "<div>\n",
       "<style scoped>\n",
       "    .dataframe tbody tr th:only-of-type {\n",
       "        vertical-align: middle;\n",
       "    }\n",
       "\n",
       "    .dataframe tbody tr th {\n",
       "        vertical-align: top;\n",
       "    }\n",
       "\n",
       "    .dataframe thead th {\n",
       "        text-align: right;\n",
       "    }\n",
       "</style>\n",
       "<table border=\"1\" class=\"dataframe\">\n",
       "  <thead>\n",
       "    <tr style=\"text-align: right;\">\n",
       "      <th></th>\n",
       "      <th>order_id</th>\n",
       "      <th>order_item_id</th>\n",
       "      <th>product_id</th>\n",
       "      <th>price</th>\n",
       "    </tr>\n",
       "  </thead>\n",
       "  <tbody>\n",
       "    <tr>\n",
       "      <th>0</th>\n",
       "      <td>b8bfa12431142333a0c84802f9529d87</td>\n",
       "      <td>1</td>\n",
       "      <td>765a8070ece0f1383d0f5faf913dfb9b</td>\n",
       "      <td>81.0</td>\n",
       "    </tr>\n",
       "    <tr>\n",
       "      <th>1</th>\n",
       "      <td>b8bfa12431142333a0c84802f9529d87</td>\n",
       "      <td>2</td>\n",
       "      <td>a41e356c76fab66334f36de622ecbd3a</td>\n",
       "      <td>99.3</td>\n",
       "    </tr>\n",
       "    <tr>\n",
       "      <th>2</th>\n",
       "      <td>b8bfa12431142333a0c84802f9529d87</td>\n",
       "      <td>3</td>\n",
       "      <td>765a8070ece0f1383d0f5faf913dfb9b</td>\n",
       "      <td>81.0</td>\n",
       "    </tr>\n",
       "    <tr>\n",
       "      <th>3</th>\n",
       "      <td>00010242fe8c5a6d1ba2dd792cb16214</td>\n",
       "      <td>1</td>\n",
       "      <td>4244733e06e7ecb4970a6e2683c13e61</td>\n",
       "      <td>58.9</td>\n",
       "    </tr>\n",
       "    <tr>\n",
       "      <th>4</th>\n",
       "      <td>00018f77f2f0320c557190d7a144bdd3</td>\n",
       "      <td>1</td>\n",
       "      <td>e5f2d52b802189ee658865ca93d83a8f</td>\n",
       "      <td>239.9</td>\n",
       "    </tr>\n",
       "  </tbody>\n",
       "</table>\n",
       "</div>"
      ],
      "text/plain": [
       "                           order_id  order_item_id  \\\n",
       "0  b8bfa12431142333a0c84802f9529d87              1   \n",
       "1  b8bfa12431142333a0c84802f9529d87              2   \n",
       "2  b8bfa12431142333a0c84802f9529d87              3   \n",
       "3  00010242fe8c5a6d1ba2dd792cb16214              1   \n",
       "4  00018f77f2f0320c557190d7a144bdd3              1   \n",
       "\n",
       "                         product_id  price  \n",
       "0  765a8070ece0f1383d0f5faf913dfb9b   81.0  \n",
       "1  a41e356c76fab66334f36de622ecbd3a   99.3  \n",
       "2  765a8070ece0f1383d0f5faf913dfb9b   81.0  \n",
       "3  4244733e06e7ecb4970a6e2683c13e61   58.9  \n",
       "4  e5f2d52b802189ee658865ca93d83a8f  239.9  "
      ]
     },
     "execution_count": 5,
     "metadata": {},
     "output_type": "execute_result"
    }
   ],
   "source": [
    "# Print orders header\n",
    "orders.head()"
   ]
  },
  {
   "cell_type": "code",
   "execution_count": 6,
   "metadata": {},
   "outputs": [
    {
     "name": "stdout",
     "output_type": "stream",
     "text": [
      "<class 'pandas.core.frame.DataFrame'>\n",
      "RangeIndex: 112650 entries, 0 to 112649\n",
      "Data columns (total 4 columns):\n",
      " #   Column         Non-Null Count   Dtype  \n",
      "---  ------         --------------   -----  \n",
      " 0   order_id       112650 non-null  object \n",
      " 1   order_item_id  112650 non-null  int64  \n",
      " 2   product_id     112650 non-null  object \n",
      " 3   price          112650 non-null  float64\n",
      "dtypes: float64(1), int64(1), object(2)\n",
      "memory usage: 3.4+ MB\n"
     ]
    }
   ],
   "source": [
    "#print orders info\n",
    "orders.info()"
   ]
  },
  {
   "cell_type": "code",
   "execution_count": 8,
   "metadata": {},
   "outputs": [
    {
     "data": {
      "text/html": [
       "<div>\n",
       "<style scoped>\n",
       "    .dataframe tbody tr th:only-of-type {\n",
       "        vertical-align: middle;\n",
       "    }\n",
       "\n",
       "    .dataframe tbody tr th {\n",
       "        vertical-align: top;\n",
       "    }\n",
       "\n",
       "    .dataframe thead th {\n",
       "        text-align: right;\n",
       "    }\n",
       "</style>\n",
       "<table border=\"1\" class=\"dataframe\">\n",
       "  <thead>\n",
       "    <tr style=\"text-align: right;\">\n",
       "      <th></th>\n",
       "      <th>product_id</th>\n",
       "      <th>product_category_name</th>\n",
       "      <th>product_weight_g</th>\n",
       "      <th>product_length_cm</th>\n",
       "      <th>product_height_cm</th>\n",
       "      <th>product_width_cm</th>\n",
       "    </tr>\n",
       "  </thead>\n",
       "  <tbody>\n",
       "    <tr>\n",
       "      <th>0</th>\n",
       "      <td>1e9e8ef04dbcff4541ed26657ea517e5</td>\n",
       "      <td>perfumaria</td>\n",
       "      <td>225.0</td>\n",
       "      <td>16.0</td>\n",
       "      <td>10.0</td>\n",
       "      <td>14.0</td>\n",
       "    </tr>\n",
       "    <tr>\n",
       "      <th>1</th>\n",
       "      <td>3aa071139cb16b67ca9e5dea641aaa2f</td>\n",
       "      <td>artes</td>\n",
       "      <td>1000.0</td>\n",
       "      <td>30.0</td>\n",
       "      <td>18.0</td>\n",
       "      <td>20.0</td>\n",
       "    </tr>\n",
       "    <tr>\n",
       "      <th>2</th>\n",
       "      <td>96bd76ec8810374ed1b65e291975717f</td>\n",
       "      <td>esporte_lazer</td>\n",
       "      <td>154.0</td>\n",
       "      <td>18.0</td>\n",
       "      <td>9.0</td>\n",
       "      <td>15.0</td>\n",
       "    </tr>\n",
       "    <tr>\n",
       "      <th>3</th>\n",
       "      <td>cef67bcfe19066a932b7673e239eb23d</td>\n",
       "      <td>bebes</td>\n",
       "      <td>371.0</td>\n",
       "      <td>26.0</td>\n",
       "      <td>4.0</td>\n",
       "      <td>26.0</td>\n",
       "    </tr>\n",
       "    <tr>\n",
       "      <th>4</th>\n",
       "      <td>9dc1a7de274444849c219cff195d0b71</td>\n",
       "      <td>utilidades_domesticas</td>\n",
       "      <td>625.0</td>\n",
       "      <td>20.0</td>\n",
       "      <td>17.0</td>\n",
       "      <td>13.0</td>\n",
       "    </tr>\n",
       "  </tbody>\n",
       "</table>\n",
       "</div>"
      ],
      "text/plain": [
       "                         product_id  product_category_name  product_weight_g  \\\n",
       "0  1e9e8ef04dbcff4541ed26657ea517e5             perfumaria             225.0   \n",
       "1  3aa071139cb16b67ca9e5dea641aaa2f                  artes            1000.0   \n",
       "2  96bd76ec8810374ed1b65e291975717f          esporte_lazer             154.0   \n",
       "3  cef67bcfe19066a932b7673e239eb23d                  bebes             371.0   \n",
       "4  9dc1a7de274444849c219cff195d0b71  utilidades_domesticas             625.0   \n",
       "\n",
       "   product_length_cm  product_height_cm  product_width_cm  \n",
       "0               16.0               10.0              14.0  \n",
       "1               30.0               18.0              20.0  \n",
       "2               18.0                9.0              15.0  \n",
       "3               26.0                4.0              26.0  \n",
       "4               20.0               17.0              13.0  "
      ]
     },
     "execution_count": 8,
     "metadata": {},
     "output_type": "execute_result"
    }
   ],
   "source": [
    "#print products head\n",
    "products.head()"
   ]
  },
  {
   "cell_type": "code",
   "execution_count": 7,
   "metadata": {},
   "outputs": [
    {
     "name": "stdout",
     "output_type": "stream",
     "text": [
      "<class 'pandas.core.frame.DataFrame'>\n",
      "RangeIndex: 32951 entries, 0 to 32950\n",
      "Data columns (total 6 columns):\n",
      " #   Column                 Non-Null Count  Dtype  \n",
      "---  ------                 --------------  -----  \n",
      " 0   product_id             32951 non-null  object \n",
      " 1   product_category_name  32341 non-null  object \n",
      " 2   product_weight_g       32949 non-null  float64\n",
      " 3   product_length_cm      32949 non-null  float64\n",
      " 4   product_height_cm      32949 non-null  float64\n",
      " 5   product_width_cm       32949 non-null  float64\n",
      "dtypes: float64(4), object(2)\n",
      "memory usage: 1.5+ MB\n"
     ]
    }
   ],
   "source": [
    "#print products info\n",
    "products.info()"
   ]
  },
  {
   "cell_type": "code",
   "execution_count": 9,
   "metadata": {},
   "outputs": [
    {
     "data": {
      "text/html": [
       "<div>\n",
       "<style scoped>\n",
       "    .dataframe tbody tr th:only-of-type {\n",
       "        vertical-align: middle;\n",
       "    }\n",
       "\n",
       "    .dataframe tbody tr th {\n",
       "        vertical-align: top;\n",
       "    }\n",
       "\n",
       "    .dataframe thead th {\n",
       "        text-align: right;\n",
       "    }\n",
       "</style>\n",
       "<table border=\"1\" class=\"dataframe\">\n",
       "  <thead>\n",
       "    <tr style=\"text-align: right;\">\n",
       "      <th></th>\n",
       "      <th>product_category_name</th>\n",
       "      <th>product_category_name_english</th>\n",
       "    </tr>\n",
       "  </thead>\n",
       "  <tbody>\n",
       "    <tr>\n",
       "      <th>0</th>\n",
       "      <td>beleza_saude</td>\n",
       "      <td>health_beauty</td>\n",
       "    </tr>\n",
       "    <tr>\n",
       "      <th>1</th>\n",
       "      <td>informatica_acessorios</td>\n",
       "      <td>computers_accessories</td>\n",
       "    </tr>\n",
       "    <tr>\n",
       "      <th>2</th>\n",
       "      <td>automotivo</td>\n",
       "      <td>auto</td>\n",
       "    </tr>\n",
       "    <tr>\n",
       "      <th>3</th>\n",
       "      <td>cama_mesa_banho</td>\n",
       "      <td>bed_bath_table</td>\n",
       "    </tr>\n",
       "    <tr>\n",
       "      <th>4</th>\n",
       "      <td>moveis_decoracao</td>\n",
       "      <td>furniture_decor</td>\n",
       "    </tr>\n",
       "  </tbody>\n",
       "</table>\n",
       "</div>"
      ],
      "text/plain": [
       "    product_category_name product_category_name_english\n",
       "0            beleza_saude                 health_beauty\n",
       "1  informatica_acessorios         computers_accessories\n",
       "2              automotivo                          auto\n",
       "3         cama_mesa_banho                bed_bath_table\n",
       "4        moveis_decoracao               furniture_decor"
      ]
     },
     "execution_count": 9,
     "metadata": {},
     "output_type": "execute_result"
    }
   ],
   "source": [
    "# Print translations header.\n",
    "translations.head()"
   ]
  },
  {
   "cell_type": "code",
   "execution_count": 10,
   "metadata": {},
   "outputs": [
    {
     "name": "stdout",
     "output_type": "stream",
     "text": [
      "<class 'pandas.core.frame.DataFrame'>\n",
      "RangeIndex: 71 entries, 0 to 70\n",
      "Data columns (total 2 columns):\n",
      " #   Column                         Non-Null Count  Dtype \n",
      "---  ------                         --------------  ----- \n",
      " 0   product_category_name          71 non-null     object\n",
      " 1   product_category_name_english  71 non-null     object\n",
      "dtypes: object(2)\n",
      "memory usage: 1.2+ KB\n"
     ]
    }
   ],
   "source": [
    "# Print translations info.\n",
    "translations.info()"
   ]
  },
  {
   "cell_type": "markdown",
   "metadata": {},
   "source": [
    "### Translating item category names\n",
    "\n",
    "**The product names are given in Portuguese.**\n",
    "\n",
    "- We'll translate the names to English using a pandas DataFrame named translations.\n",
    "- .merge() performs a join operation on columns or indices.\n",
    "- on is the column on which to perform the join.\n",
    "- how specifies which keys to use to perform the join."
   ]
  },
  {
   "cell_type": "code",
   "execution_count": 11,
   "metadata": {},
   "outputs": [
    {
     "data": {
      "text/plain": [
       "0                          perfume\n",
       "1                              art\n",
       "2                   sports_leisure\n",
       "3                             baby\n",
       "4                       housewares\n",
       "                   ...            \n",
       "32946              furniture_decor\n",
       "32947    construction_tools_lights\n",
       "32948               bed_bath_table\n",
       "32949        computers_accessories\n",
       "32950               bed_bath_table\n",
       "Name: product_category_name_english, Length: 32951, dtype: object"
      ]
     },
     "execution_count": 11,
     "metadata": {},
     "output_type": "execute_result"
    }
   ],
   "source": [
    "#Translate product names to English\n",
    "products = products.merge(translations, on = 'product_category_name', how = 'left')\n",
    "\n",
    "#print English name\n",
    "products['product_category_name_english']"
   ]
  },
  {
   "cell_type": "markdown",
   "metadata": {},
   "source": [
    "### Convert product IDs to product category names\n",
    "**We can work with product IDs directly, but do not have product names.**\n",
    "\n",
    "- Map product IDs to product category names, which are available in products.\n",
    "- Use another .merge() with orders and subset of products columns.\n",
    "\n",
    "**Using category names will also simplify the analysis, since there are fewer categories than products.**"
   ]
  },
  {
   "cell_type": "code",
   "execution_count": 12,
   "metadata": {},
   "outputs": [],
   "source": [
    "#Define product category name in orders DataFrame\n",
    "orders = orders.merge(products[['product_id','product_category_name_english']], on = 'product_id', how = 'left')"
   ]
  },
  {
   "cell_type": "code",
   "execution_count": 14,
   "metadata": {},
   "outputs": [
    {
     "data": {
      "text/html": [
       "<div>\n",
       "<style scoped>\n",
       "    .dataframe tbody tr th:only-of-type {\n",
       "        vertical-align: middle;\n",
       "    }\n",
       "\n",
       "    .dataframe tbody tr th {\n",
       "        vertical-align: top;\n",
       "    }\n",
       "\n",
       "    .dataframe thead th {\n",
       "        text-align: right;\n",
       "    }\n",
       "</style>\n",
       "<table border=\"1\" class=\"dataframe\">\n",
       "  <thead>\n",
       "    <tr style=\"text-align: right;\">\n",
       "      <th></th>\n",
       "      <th>order_id</th>\n",
       "      <th>order_item_id</th>\n",
       "      <th>product_id</th>\n",
       "      <th>price</th>\n",
       "      <th>product_category_name_english</th>\n",
       "    </tr>\n",
       "  </thead>\n",
       "  <tbody>\n",
       "    <tr>\n",
       "      <th>0</th>\n",
       "      <td>b8bfa12431142333a0c84802f9529d87</td>\n",
       "      <td>1</td>\n",
       "      <td>765a8070ece0f1383d0f5faf913dfb9b</td>\n",
       "      <td>81.0</td>\n",
       "      <td>sports_leisure</td>\n",
       "    </tr>\n",
       "    <tr>\n",
       "      <th>1</th>\n",
       "      <td>b8bfa12431142333a0c84802f9529d87</td>\n",
       "      <td>2</td>\n",
       "      <td>a41e356c76fab66334f36de622ecbd3a</td>\n",
       "      <td>99.3</td>\n",
       "      <td>NaN</td>\n",
       "    </tr>\n",
       "    <tr>\n",
       "      <th>2</th>\n",
       "      <td>b8bfa12431142333a0c84802f9529d87</td>\n",
       "      <td>3</td>\n",
       "      <td>765a8070ece0f1383d0f5faf913dfb9b</td>\n",
       "      <td>81.0</td>\n",
       "      <td>sports_leisure</td>\n",
       "    </tr>\n",
       "    <tr>\n",
       "      <th>3</th>\n",
       "      <td>00010242fe8c5a6d1ba2dd792cb16214</td>\n",
       "      <td>1</td>\n",
       "      <td>4244733e06e7ecb4970a6e2683c13e61</td>\n",
       "      <td>58.9</td>\n",
       "      <td>cool_stuff</td>\n",
       "    </tr>\n",
       "    <tr>\n",
       "      <th>4</th>\n",
       "      <td>00018f77f2f0320c557190d7a144bdd3</td>\n",
       "      <td>1</td>\n",
       "      <td>e5f2d52b802189ee658865ca93d83a8f</td>\n",
       "      <td>239.9</td>\n",
       "      <td>pet_shop</td>\n",
       "    </tr>\n",
       "  </tbody>\n",
       "</table>\n",
       "</div>"
      ],
      "text/plain": [
       "                           order_id  order_item_id  \\\n",
       "0  b8bfa12431142333a0c84802f9529d87              1   \n",
       "1  b8bfa12431142333a0c84802f9529d87              2   \n",
       "2  b8bfa12431142333a0c84802f9529d87              3   \n",
       "3  00010242fe8c5a6d1ba2dd792cb16214              1   \n",
       "4  00018f77f2f0320c557190d7a144bdd3              1   \n",
       "\n",
       "                         product_id  price product_category_name_english  \n",
       "0  765a8070ece0f1383d0f5faf913dfb9b   81.0                sports_leisure  \n",
       "1  a41e356c76fab66334f36de622ecbd3a   99.3                           NaN  \n",
       "2  765a8070ece0f1383d0f5faf913dfb9b   81.0                sports_leisure  \n",
       "3  4244733e06e7ecb4970a6e2683c13e61   58.9                    cool_stuff  \n",
       "4  e5f2d52b802189ee658865ca93d83a8f  239.9                      pet_shop  "
      ]
     },
     "execution_count": 14,
     "metadata": {},
     "output_type": "execute_result"
    }
   ],
   "source": [
    "#print orders header\n",
    "orders.head()"
   ]
  },
  {
   "cell_type": "code",
   "execution_count": 15,
   "metadata": {},
   "outputs": [],
   "source": [
    "#dropping products without a defined category\n",
    "orders.dropna(inplace = True, subset = ['product_category_name_english'])"
   ]
  },
  {
   "cell_type": "code",
   "execution_count": 16,
   "metadata": {},
   "outputs": [
    {
     "data": {
      "text/plain": [
       "32328"
      ]
     },
     "execution_count": 16,
     "metadata": {},
     "output_type": "execute_result"
    }
   ],
   "source": [
    "#print number of unique items\n",
    "len(orders['product_id'].unique())"
   ]
  },
  {
   "cell_type": "code",
   "execution_count": 17,
   "metadata": {},
   "outputs": [
    {
     "data": {
      "text/plain": [
       "71"
      ]
     },
     "execution_count": 17,
     "metadata": {},
     "output_type": "execute_result"
    }
   ],
   "source": [
    "#print number of unique categories\n",
    "len(orders['product_category_name_english'].unique())"
   ]
  },
  {
   "cell_type": "markdown",
   "metadata": {},
   "source": [
    "**Insight:** Performing \"aggregation\" up to the product category level reduces the number of potential itemsets from $2^{32328}$ to $2^{71}$."
   ]
  },
  {
   "cell_type": "markdown",
   "metadata": {},
   "source": [
    "### Construct transactions from order and product data\n",
    "\n",
    "- **We will perform Market Basket Analysis on transactions.**\n",
    "    - A transaction consists of the unique items purchased by a customer.\n",
    "- **Need to extract transactions from orders DataFrame.**\n",
    "    - Group all items in an order."
   ]
  },
  {
   "cell_type": "code",
   "execution_count": 19,
   "metadata": {},
   "outputs": [
    {
     "name": "stdout",
     "output_type": "stream",
     "text": [
      "111984     bed_bath_table\n",
      "111985    furniture_decor\n",
      "Name: product_category_name_english, dtype: object\n"
     ]
    }
   ],
   "source": [
    "#identify transactions associated with example order\n",
    "example1 = orders[orders['order_id'] == 'fe64170e936bc5f6a6a41def260984b9']['product_category_name_english']\n",
    "\n",
    "#print\n",
    "print(example1)"
   ]
  },
  {
   "cell_type": "code",
   "execution_count": 21,
   "metadata": {},
   "outputs": [
    {
     "name": "stdout",
     "output_type": "stream",
     "text": [
      "112640    watches_gifts\n",
      "112641    watches_gifts\n",
      "112642    watches_gifts\n",
      "112643    watches_gifts\n",
      "Name: product_category_name_english, dtype: object\n"
     ]
    }
   ],
   "source": [
    "#identify transactions associated with example order\n",
    "example2 = orders[orders['order_id'] == 'fffb9224b6fc7c43ebb0904318b10b5f']['product_category_name_english']\n",
    "\n",
    "#print\n",
    "print(example2)"
   ]
  },
  {
   "cell_type": "code",
   "execution_count": 22,
   "metadata": {},
   "outputs": [
    {
     "data": {
      "text/plain": [
       "order_id\n",
       "00010242fe8c5a6d1ba2dd792cb16214         [cool_stuff]\n",
       "00018f77f2f0320c557190d7a144bdd3           [pet_shop]\n",
       "000229ec398224ef6ca0657da4fc703e    [furniture_decor]\n",
       "00024acbcdf0a6daa1e931b038114c75            [perfume]\n",
       "00042b26cf59d7ce69dfabb4e55b4fd9       [garden_tools]\n",
       "Name: product_category_name_english, dtype: object"
      ]
     },
     "execution_count": 22,
     "metadata": {},
     "output_type": "execute_result"
    }
   ],
   "source": [
    "#mnapping orders to transactions\n",
    "transactions = orders.groupby('order_id').product_category_name_english.unique()\n",
    "\n",
    "#print transactions header\n",
    "transactions.head()"
   ]
  },
  {
   "cell_type": "code",
   "execution_count": 23,
   "metadata": {},
   "outputs": [
    {
     "data": {
      "text/plain": [
       "<matplotlib.axes._subplots.AxesSubplot at 0x1aea3f5cac0>"
      ]
     },
     "execution_count": 23,
     "metadata": {},
     "output_type": "execute_result"
    },
    {
     "data": {
      "image/png": "[encoded data removed]",
      "text/plain": [
       "<Figure size 1080x360 with 1 Axes>"
      ]
     },
     "metadata": {},
     "output_type": "display_data"
    }
   ],
   "source": [
    "#Plottting 50 largest categories of transactions\n",
    "transactions.value_counts()[:50].plot(kind = 'bar', figsize = (15, 5))"
   ]
  },
  {
   "cell_type": "markdown",
   "metadata": {},
   "source": [
    "1. The most common itemsets consist of a single item.\n",
    "\n",
    "2. There's a long tail of categories that consist of infrequently purchased items."
   ]
  },
  {
   "cell_type": "code",
   "execution_count": 28,
   "metadata": {
    "collapsed": true
   },
   "outputs": [
    {
     "ename": "AttributeError",
     "evalue": "'list' object has no attribute 'to_list'",
     "output_type": "error",
     "traceback": [
      "\u001b[1;31m---------------------------------------------------------------------------\u001b[0m",
      "\u001b[1;31mAttributeError\u001b[0m                            Traceback (most recent call last)",
      "\u001b[1;32m<ipython-input-28-a2e288a88873>\u001b[0m in \u001b[0;36m<module>\u001b[1;34m\u001b[0m\n\u001b[0;32m      1\u001b[0m \u001b[1;31m#convert pandas series to list\u001b[0m\u001b[1;33m\u001b[0m\u001b[1;33m\u001b[0m\u001b[1;33m\u001b[0m\u001b[0m\n\u001b[1;32m----> 2\u001b[1;33m \u001b[0mtransactions\u001b[0m \u001b[1;33m=\u001b[0m \u001b[0mtransactions\u001b[0m\u001b[1;33m.\u001b[0m\u001b[0mto_list\u001b[0m\u001b[1;33m(\u001b[0m\u001b[1;33m)\u001b[0m\u001b[1;33m\u001b[0m\u001b[1;33m\u001b[0m\u001b[0m\n\u001b[0m",
      "\u001b[1;31mAttributeError\u001b[0m: 'list' object has no attribute 'to_list'"
     ]
    }
   ],
   "source": [
    "#convert pandas series to list\n",
    "transactions = transactions.to_list()"
   ]
  },
  {
   "cell_type": "markdown",
   "metadata": {},
   "source": [
    "### Summarizing final transaction data"
   ]
  },
  {
   "cell_type": "code",
   "execution_count": 29,
   "metadata": {},
   "outputs": [
    {
     "data": {
      "text/plain": [
       "97256"
      ]
     },
     "execution_count": 29,
     "metadata": {},
     "output_type": "execute_result"
    }
   ],
   "source": [
    "#print length of transactions\n",
    "len(transactions)"
   ]
  },
  {
   "cell_type": "code",
   "execution_count": 26,
   "metadata": {},
   "outputs": [],
   "source": [
    "#count number of unique item categories for each transaction\n",
    "counts = [len(transactions) for transaction in transactions]"
   ]
  },
  {
   "cell_type": "code",
   "execution_count": 27,
   "metadata": {},
   "outputs": [
    {
     "data": {
      "text/plain": [
       "97256.0"
      ]
     },
     "execution_count": 27,
     "metadata": {},
     "output_type": "execute_result"
    }
   ],
   "source": [
    "#print median number of items in a transaction\n",
    "np.median(counts)"
   ]
  },
  {
   "cell_type": "code",
   "execution_count": 30,
   "metadata": {},
   "outputs": [
    {
     "data": {
      "text/plain": [
       "97256"
      ]
     },
     "execution_count": 30,
     "metadata": {},
     "output_type": "execute_result"
    }
   ],
   "source": [
    "# print max number of items in a transaction\n",
    "np.max(counts)"
   ]
  },
  {
   "cell_type": "markdown",
   "metadata": {},
   "source": [
    "### Association Rules and Metrics\n",
    "\n",
    "**Association rule**: an \"if-then\" relationship between two itemsets.\n",
    "\n",
    "- **rule**: if {coffee) then {milk}.\n",
    "- **antecedent**: coffee\n",
    "- **consequent**: milk\n",
    "\n",
    "**Metric**: a measure of the strength of association between two itemsets.\n",
    "\n",
    "- **rule**: if {coffee) then {milk}\n",
    "- **support**: 0.10\n",
    "- **leverage**: 0.03\n",
    "\n",
    "### One-hot encode the transaction data\n",
    "\n",
    "- One-hot encoding data.\n",
    "    - TransactionEncoder() instantiates an encoder object.\n",
    "    - .fit() creates mapping between list and one-hot encoding.\n",
    "    - .transform() transforms list into one-hot encoded array.\n",
    "    \n",
    "- Applying one-hot encoding will transform the list of lists (of transactions) into a DataFrame.\n",
    "    - The columns correspond to item categories and the rows correspond to transactions. A true indicates that a transaction contains an item from the corresponding category.\n",
    "- One-hot encoding simplifies the computation of metrics.\n",
    "    - We will also use a one-hot encoded DataFrame as an input to different mlxtend functions"
   ]
  },
  {
   "cell_type": "code",
   "execution_count": 33,
   "metadata": {},
   "outputs": [
    {
     "name": "stdout",
     "output_type": "stream",
     "text": [
      "Collecting mlxtend\n",
      "  Downloading mlxtend-0.19.0-py2.py3-none-any.whl (1.3 MB)\n",
      "Requirement already satisfied: matplotlib>=3.0.0 in c:\\programdata\\anaconda3\\lib\\site-packages (from mlxtend) (3.2.2)\n",
      "Requirement already satisfied: pandas>=0.24.2 in c:\\programdata\\anaconda3\\lib\\site-packages (from mlxtend) (1.0.5)\n",
      "Requirement already satisfied: scikit-learn>=0.20.3 in c:\\users\\princy\\appdata\\roaming\\python\\python38\\site-packages (from mlxtend) (0.24.2)\n",
      "Requirement already satisfied: joblib>=0.13.2 in c:\\programdata\\anaconda3\\lib\\site-packages (from mlxtend) (0.16.0)\n",
      "Requirement already satisfied: numpy>=1.16.2 in c:\\programdata\\anaconda3\\lib\\site-packages (from mlxtend) (1.18.5)\n",
      "Requirement already satisfied: scipy>=1.2.1 in c:\\programdata\\anaconda3\\lib\\site-packages (from mlxtend) (1.5.0)\n",
      "Requirement already satisfied: setuptools in c:\\programdata\\anaconda3\\lib\\site-packages (from mlxtend) (49.2.0.post20200714)\n",
      "Requirement already satisfied: pyparsing!=2.0.4,!=2.1.2,!=2.1.6,>=2.0.1 in c:\\programdata\\anaconda3\\lib\\site-packages (from matplotlib>=3.0.0->mlxtend) (2.4.7)\n",
      "Requirement already satisfied: kiwisolver>=1.0.1 in c:\\programdata\\anaconda3\\lib\\site-packages (from matplotlib>=3.0.0->mlxtend) (1.2.0)\n",
      "Requirement already satisfied: cycler>=0.10 in c:\\programdata\\anaconda3\\lib\\site-packages (from matplotlib>=3.0.0->mlxtend) (0.10.0)\n",
      "Requirement already satisfied: python-dateutil>=2.1 in c:\\programdata\\anaconda3\\lib\\site-packages (from matplotlib>=3.0.0->mlxtend) (2.8.1)\n",
      "Requirement already satisfied: pytz>=2017.2 in c:\\programdata\\anaconda3\\lib\\site-packages (from pandas>=0.24.2->mlxtend) (2020.1)\n",
      "Requirement already satisfied: threadpoolctl>=2.0.0 in c:\\programdata\\anaconda3\\lib\\site-packages (from scikit-learn>=0.20.3->mlxtend) (2.1.0)\n",
      "Requirement already satisfied: six in c:\\programdata\\anaconda3\\lib\\site-packages (from cycler>=0.10->matplotlib>=3.0.0->mlxtend) (1.15.0)\n",
      "Installing collected packages: mlxtend\n",
      "Successfully installed mlxtend-0.19.0\n",
      "Note: you may need to restart the kernel to use updated packages.\n"
     ]
    }
   ],
   "source": [
    "pip install mlxtend"
   ]
  },
  {
   "cell_type": "code",
   "execution_count": 34,
   "metadata": {},
   "outputs": [],
   "source": [
    "from mlxtend.preprocessing import TransactionEncoder\n",
    "\n",
    "#instantiating an encoder\n",
    "encoder = TransactionEncoder()\n",
    "\n",
    "#fit encoder to list of lists\n",
    "encoder.fit(transactions)\n",
    "\n",
    "#transform lists into one-hot encoded array\n",
    "onehot = encoder.transform(transactions)\n",
    "\n",
    "#convert array to pandas dataframe\n",
    "onehot = pd.DataFrame(onehot, columns = encoder.columns_)"
   ]
  },
  {
   "cell_type": "code",
   "execution_count": 35,
   "metadata": {},
   "outputs": [
    {
     "data": {
      "text/html": [
       "<div>\n",
       "<style scoped>\n",
       "    .dataframe tbody tr th:only-of-type {\n",
       "        vertical-align: middle;\n",
       "    }\n",
       "\n",
       "    .dataframe tbody tr th {\n",
       "        vertical-align: top;\n",
       "    }\n",
       "\n",
       "    .dataframe thead th {\n",
       "        text-align: right;\n",
       "    }\n",
       "</style>\n",
       "<table border=\"1\" class=\"dataframe\">\n",
       "  <thead>\n",
       "    <tr style=\"text-align: right;\">\n",
       "      <th></th>\n",
       "      <th>agro_industry_and_commerce</th>\n",
       "      <th>air_conditioning</th>\n",
       "      <th>art</th>\n",
       "      <th>arts_and_crafts</th>\n",
       "      <th>audio</th>\n",
       "      <th>auto</th>\n",
       "      <th>baby</th>\n",
       "      <th>bed_bath_table</th>\n",
       "      <th>books_general_interest</th>\n",
       "      <th>books_imported</th>\n",
       "      <th>...</th>\n",
       "      <th>security_and_services</th>\n",
       "      <th>signaling_and_security</th>\n",
       "      <th>small_appliances</th>\n",
       "      <th>small_appliances_home_oven_and_coffee</th>\n",
       "      <th>sports_leisure</th>\n",
       "      <th>stationery</th>\n",
       "      <th>tablets_printing_image</th>\n",
       "      <th>telephony</th>\n",
       "      <th>toys</th>\n",
       "      <th>watches_gifts</th>\n",
       "    </tr>\n",
       "  </thead>\n",
       "  <tbody>\n",
       "    <tr>\n",
       "      <th>0</th>\n",
       "      <td>False</td>\n",
       "      <td>False</td>\n",
       "      <td>False</td>\n",
       "      <td>False</td>\n",
       "      <td>False</td>\n",
       "      <td>False</td>\n",
       "      <td>False</td>\n",
       "      <td>False</td>\n",
       "      <td>False</td>\n",
       "      <td>False</td>\n",
       "      <td>...</td>\n",
       "      <td>False</td>\n",
       "      <td>False</td>\n",
       "      <td>False</td>\n",
       "      <td>False</td>\n",
       "      <td>False</td>\n",
       "      <td>False</td>\n",
       "      <td>False</td>\n",
       "      <td>False</td>\n",
       "      <td>False</td>\n",
       "      <td>False</td>\n",
       "    </tr>\n",
       "    <tr>\n",
       "      <th>1</th>\n",
       "      <td>False</td>\n",
       "      <td>False</td>\n",
       "      <td>False</td>\n",
       "      <td>False</td>\n",
       "      <td>False</td>\n",
       "      <td>False</td>\n",
       "      <td>False</td>\n",
       "      <td>False</td>\n",
       "      <td>False</td>\n",
       "      <td>False</td>\n",
       "      <td>...</td>\n",
       "      <td>False</td>\n",
       "      <td>False</td>\n",
       "      <td>False</td>\n",
       "      <td>False</td>\n",
       "      <td>False</td>\n",
       "      <td>False</td>\n",
       "      <td>False</td>\n",
       "      <td>False</td>\n",
       "      <td>False</td>\n",
       "      <td>False</td>\n",
       "    </tr>\n",
       "    <tr>\n",
       "      <th>2</th>\n",
       "      <td>False</td>\n",
       "      <td>False</td>\n",
       "      <td>False</td>\n",
       "      <td>False</td>\n",
       "      <td>False</td>\n",
       "      <td>False</td>\n",
       "      <td>False</td>\n",
       "      <td>False</td>\n",
       "      <td>False</td>\n",
       "      <td>False</td>\n",
       "      <td>...</td>\n",
       "      <td>False</td>\n",
       "      <td>False</td>\n",
       "      <td>False</td>\n",
       "      <td>False</td>\n",
       "      <td>False</td>\n",
       "      <td>False</td>\n",
       "      <td>False</td>\n",
       "      <td>False</td>\n",
       "      <td>False</td>\n",
       "      <td>False</td>\n",
       "    </tr>\n",
       "    <tr>\n",
       "      <th>3</th>\n",
       "      <td>False</td>\n",
       "      <td>False</td>\n",
       "      <td>False</td>\n",
       "      <td>False</td>\n",
       "      <td>False</td>\n",
       "      <td>False</td>\n",
       "      <td>False</td>\n",
       "      <td>False</td>\n",
       "      <td>False</td>\n",
       "      <td>False</td>\n",
       "      <td>...</td>\n",
       "      <td>False</td>\n",
       "      <td>False</td>\n",
       "      <td>False</td>\n",
       "      <td>False</td>\n",
       "      <td>False</td>\n",
       "      <td>False</td>\n",
       "      <td>False</td>\n",
       "      <td>False</td>\n",
       "      <td>False</td>\n",
       "      <td>False</td>\n",
       "    </tr>\n",
       "    <tr>\n",
       "      <th>4</th>\n",
       "      <td>False</td>\n",
       "      <td>False</td>\n",
       "      <td>False</td>\n",
       "      <td>False</td>\n",
       "      <td>False</td>\n",
       "      <td>False</td>\n",
       "      <td>False</td>\n",
       "      <td>False</td>\n",
       "      <td>False</td>\n",
       "      <td>False</td>\n",
       "      <td>...</td>\n",
       "      <td>False</td>\n",
       "      <td>False</td>\n",
       "      <td>False</td>\n",
       "      <td>False</td>\n",
       "      <td>False</td>\n",
       "      <td>False</td>\n",
       "      <td>False</td>\n",
       "      <td>False</td>\n",
       "      <td>False</td>\n",
       "      <td>False</td>\n",
       "    </tr>\n",
       "  </tbody>\n",
       "</table>\n",
       "<p>5 rows × 71 columns</p>\n",
       "</div>"
      ],
      "text/plain": [
       "   agro_industry_and_commerce  air_conditioning    art  arts_and_crafts  \\\n",
       "0                       False             False  False            False   \n",
       "1                       False             False  False            False   \n",
       "2                       False             False  False            False   \n",
       "3                       False             False  False            False   \n",
       "4                       False             False  False            False   \n",
       "\n",
       "   audio   auto   baby  bed_bath_table  books_general_interest  \\\n",
       "0  False  False  False           False                   False   \n",
       "1  False  False  False           False                   False   \n",
       "2  False  False  False           False                   False   \n",
       "3  False  False  False           False                   False   \n",
       "4  False  False  False           False                   False   \n",
       "\n",
       "   books_imported  ...  security_and_services  signaling_and_security  \\\n",
       "0           False  ...                  False                   False   \n",
       "1           False  ...                  False                   False   \n",
       "2           False  ...                  False                   False   \n",
       "3           False  ...                  False                   False   \n",
       "4           False  ...                  False                   False   \n",
       "\n",
       "   small_appliances  small_appliances_home_oven_and_coffee  sports_leisure  \\\n",
       "0             False                                  False           False   \n",
       "1             False                                  False           False   \n",
       "2             False                                  False           False   \n",
       "3             False                                  False           False   \n",
       "4             False                                  False           False   \n",
       "\n",
       "   stationery  tablets_printing_image  telephony   toys  watches_gifts  \n",
       "0       False                   False      False  False          False  \n",
       "1       False                   False      False  False          False  \n",
       "2       False                   False      False  False          False  \n",
       "3       False                   False      False  False          False  \n",
       "4       False                   False      False  False          False  \n",
       "\n",
       "[5 rows x 71 columns]"
      ]
     },
     "execution_count": 35,
     "metadata": {},
     "output_type": "execute_result"
    }
   ],
   "source": [
    "# Print header.\n",
    "onehot.head()"
   ]
  },
  {
   "cell_type": "markdown",
   "metadata": {},
   "source": [
    "### Compute the support metric\n",
    "\n",
    "- Support measures the frequency with which an itemset appears in a database of transactions.\n",
    "\n",
    "$$support(X) = \\frac{\\text{number of transactions containing X}}{\\text{total number of transactions}}$$\n",
    "- .mean(axis=0) computes support values for one-hot encoded DataFrame\n",
    "- A high support value indicates that items in an itemset are purchased together frequently and, thus, are associated with each other."
   ]
  },
  {
   "cell_type": "code",
   "execution_count": 36,
   "metadata": {},
   "outputs": [
    {
     "data": {
      "text/plain": [
       "agro_industry_and_commerce    0.001871\n",
       "air_conditioning              0.002601\n",
       "art                           0.002077\n",
       "arts_and_crafts               0.000236\n",
       "audio                         0.003599\n",
       "                                ...   \n",
       "stationery                    0.023762\n",
       "tablets_printing_image        0.000812\n",
       "telephony                     0.043175\n",
       "toys                          0.039956\n",
       "watches_gifts                 0.057827\n",
       "Length: 71, dtype: float64"
      ]
     },
     "execution_count": 36,
     "metadata": {},
     "output_type": "execute_result"
    }
   ],
   "source": [
    "# Print support metric over all rows for each column.\n",
    "onehot.mean(axis=0)"
   ]
  },
  {
   "cell_type": "markdown",
   "metadata": {},
   "source": [
    " In retail and ecommerce settings, any particular item is likely to account for a small share of transactions. Here, we've aggregated up to the product category level and very popular categories are still only present in 5% of transactions. Consequently, itemsets with 2 or more item categories will account for a vanishingly small share of total transactions (e.g. 0.01%)."
   ]
  },
  {
   "cell_type": "markdown",
   "metadata": {},
   "source": [
    "### Compute the item count distribution over transactions\n",
    "\n",
    "- onehot.sum(axis=1) sums across the columns in a DataFrame."
   ]
  },
  {
   "cell_type": "code",
   "execution_count": 37,
   "metadata": {},
   "outputs": [
    {
     "data": {
      "text/plain": [
       "1    96530\n",
       "2      711\n",
       "3       15\n",
       "dtype: int64"
      ]
     },
     "execution_count": 37,
     "metadata": {},
     "output_type": "execute_result"
    }
   ],
   "source": [
    "# Print distribution of item counts.\n",
    "onehot.sum(axis=1).value_counts()"
   ]
  },
  {
   "cell_type": "markdown",
   "metadata": {},
   "source": [
    "Only 726 transactions contain more than one item category. We may want to consider whether aggregation discards too many multi-item itemsets."
   ]
  },
  {
   "cell_type": "markdown",
   "metadata": {},
   "source": [
    "### Create a column for an itemset with multiple items\n",
    "\n",
    "- We can create multi-item columns using the logical AND operation.\n",
    "    - True & True = True\n",
    "    - True & False = False\n",
    "    - False & True = False\n",
    "    - False & False = False"
   ]
  },
  {
   "cell_type": "code",
   "execution_count": 38,
   "metadata": {},
   "outputs": [
    {
     "data": {
      "text/plain": [
       "0.00014394998766142962"
      ]
     },
     "execution_count": 38,
     "metadata": {},
     "output_type": "execute_result"
    }
   ],
   "source": [
    "# Add sports_leisure and health_beauty to DataFrame.\n",
    "onehot['sports_leisure_health_beauty'] = onehot['sports_leisure'] & onehot['health_beauty']\n",
    "\n",
    "# Print support value.\n",
    "onehot['sports_leisure_health_beauty'].mean(axis = 0)"
   ]
  },
  {
   "cell_type": "markdown",
   "metadata": {},
   "source": [
    "Only 0.014% of transactions contain a product from both the sports and leisure, and health and beauty categories. These are typically the type of numbers we will work with when we set pruning thresholds in the following section."
   ]
  },
  {
   "cell_type": "markdown",
   "metadata": {},
   "source": [
    "### Aggregate the dataset further by combining product sub-categories\n",
    "\n",
    "- We can use the inclusive OR operation to combine multiple categories.\n",
    "    - True | True = True\n",
    "    - True | False = True\n",
    "    - False | True = True\n",
    "    - False | False = False"
   ]
  },
  {
   "cell_type": "code",
   "execution_count": 39,
   "metadata": {},
   "outputs": [
    {
     "data": {
      "text/plain": [
       "books              0.003218\n",
       "books_imported     0.000545\n",
       "books_technical    0.002673\n",
       "dtype: float64"
      ]
     },
     "execution_count": 39,
     "metadata": {},
     "output_type": "execute_result"
    }
   ],
   "source": [
    "# Merge books_imported and books_technical.\n",
    "onehot['books'] = onehot['books_imported'] | onehot['books_technical']\n",
    "\n",
    "# Print support values for books, books_imported, and books_technical.\n",
    "onehot[['books','books_imported','books_technical']].mean(axis=0)"
   ]
  },
  {
   "cell_type": "markdown",
   "metadata": {},
   "source": [
    "### Compute the confidence metric\n",
    "\n",
    "- The support metric doesn't provide information about direction.\n",
    "    - $support(antecedent, consequent) = support(consequent, antecedent)$\n",
    "- The confidence metric has a direction.\n",
    "    - Conditional probability of the consequent, given the antecedent.\n",
    "    \n",
    "       $$confidence(antecedent \\rightarrow consequent)= \\frac{support(antecedent, consequent)}{support(antecedent)}$$\n",
    "- A high value of confidence indicates that the antecedent and consequent are associated and that the direction of the association runs from the antecedent to the consequent."
   ]
  },
  {
   "cell_type": "code",
   "execution_count": 40,
   "metadata": {},
   "outputs": [
    {
     "data": {
      "text/plain": [
       "0.0018134715025906734"
      ]
     },
     "execution_count": 40,
     "metadata": {},
     "output_type": "execute_result"
    }
   ],
   "source": [
    "# Compute joint support for sports_leisure and health_beauty.\n",
    "joint_support = (onehot['sports_leisure'] & onehot['health_beauty']).mean()\n",
    "\n",
    "# Print confidence metric for sports_leisure -> health_beauty.\n",
    "joint_support / onehot['sports_leisure'].mean()"
   ]
  },
  {
   "cell_type": "code",
   "execution_count": 41,
   "metadata": {},
   "outputs": [
    {
     "data": {
      "text/plain": [
       "0.0018134715025906734"
      ]
     },
     "execution_count": 41,
     "metadata": {},
     "output_type": "execute_result"
    }
   ],
   "source": [
    "# Print confidence for health_beauty -> sports_leisure.\n",
    "joint_support / onehot['sports_leisure'].mean()"
   ]
  },
  {
   "cell_type": "markdown",
   "metadata": {},
   "source": [
    "**Insight**: $confidence(sports\\_leisure \\rightarrow health\\_beauty)$ was higher than $confidence(health\\_beauty \\rightarrow sports\\_leisure)$. Since the two have the same joint support, the confidence measures will differ only by the antecedent support. The higher confidence metric means that the antecedent has lower support."
   ]
  },
  {
   "cell_type": "markdown",
   "metadata": {},
   "source": [
    "### The Apriori Algorithm and Pruning\n",
    "\n",
    "The Apriori algorithm identifies frequent (high support) itemsets using something called the Apriori principle, which states that a superset that contains an infrequent item is also infrequent.\n",
    "\n",
    "**Pruning** is the process of removing itemsets or association rules, typically based on the application of a metric threshold.\n",
    "\n",
    "**The mlxtend module will enable us to apply the Apriori algorithm, perform pruning, and compute association rules.**"
   ]
  },
  {
   "cell_type": "markdown",
   "metadata": {},
   "source": [
    "### Applying the Apriori algorithm\n",
    "- Use apriori() to identify frequent itemsets.\n",
    "- min_support set the item frequency threshold used for pruning."
   ]
  },
  {
   "cell_type": "code",
   "execution_count": 42,
   "metadata": {},
   "outputs": [
    {
     "data": {
      "text/html": [
       "<div>\n",
       "<style scoped>\n",
       "    .dataframe tbody tr th:only-of-type {\n",
       "        vertical-align: middle;\n",
       "    }\n",
       "\n",
       "    .dataframe tbody tr th {\n",
       "        vertical-align: top;\n",
       "    }\n",
       "\n",
       "    .dataframe thead th {\n",
       "        text-align: right;\n",
       "    }\n",
       "</style>\n",
       "<table border=\"1\" class=\"dataframe\">\n",
       "  <thead>\n",
       "    <tr style=\"text-align: right;\">\n",
       "      <th></th>\n",
       "      <th>support</th>\n",
       "      <th>itemsets</th>\n",
       "    </tr>\n",
       "  </thead>\n",
       "  <tbody>\n",
       "    <tr>\n",
       "      <th>0</th>\n",
       "      <td>0.040070</td>\n",
       "      <td>(5)</td>\n",
       "    </tr>\n",
       "    <tr>\n",
       "      <th>1</th>\n",
       "      <td>0.029664</td>\n",
       "      <td>(6)</td>\n",
       "    </tr>\n",
       "    <tr>\n",
       "      <th>2</th>\n",
       "      <td>0.096827</td>\n",
       "      <td>(7)</td>\n",
       "    </tr>\n",
       "    <tr>\n",
       "      <th>3</th>\n",
       "      <td>0.068777</td>\n",
       "      <td>(15)</td>\n",
       "    </tr>\n",
       "    <tr>\n",
       "      <th>4</th>\n",
       "      <td>0.010920</td>\n",
       "      <td>(16)</td>\n",
       "    </tr>\n",
       "    <tr>\n",
       "      <th>5</th>\n",
       "      <td>0.037345</td>\n",
       "      <td>(20)</td>\n",
       "    </tr>\n",
       "    <tr>\n",
       "      <th>6</th>\n",
       "      <td>0.026219</td>\n",
       "      <td>(27)</td>\n",
       "    </tr>\n",
       "    <tr>\n",
       "      <th>7</th>\n",
       "      <td>0.019166</td>\n",
       "      <td>(28)</td>\n",
       "    </tr>\n",
       "    <tr>\n",
       "      <th>8</th>\n",
       "      <td>0.066310</td>\n",
       "      <td>(40)</td>\n",
       "    </tr>\n",
       "    <tr>\n",
       "      <th>9</th>\n",
       "      <td>0.036173</td>\n",
       "      <td>(43)</td>\n",
       "    </tr>\n",
       "    <tr>\n",
       "      <th>10</th>\n",
       "      <td>0.090853</td>\n",
       "      <td>(44)</td>\n",
       "    </tr>\n",
       "    <tr>\n",
       "      <th>11</th>\n",
       "      <td>0.060500</td>\n",
       "      <td>(50)</td>\n",
       "    </tr>\n",
       "    <tr>\n",
       "      <th>12</th>\n",
       "      <td>0.010632</td>\n",
       "      <td>(53)</td>\n",
       "    </tr>\n",
       "    <tr>\n",
       "      <th>13</th>\n",
       "      <td>0.013089</td>\n",
       "      <td>(57)</td>\n",
       "    </tr>\n",
       "    <tr>\n",
       "      <th>14</th>\n",
       "      <td>0.032512</td>\n",
       "      <td>(59)</td>\n",
       "    </tr>\n",
       "    <tr>\n",
       "      <th>15</th>\n",
       "      <td>0.017582</td>\n",
       "      <td>(60)</td>\n",
       "    </tr>\n",
       "    <tr>\n",
       "      <th>16</th>\n",
       "      <td>0.079378</td>\n",
       "      <td>(65)</td>\n",
       "    </tr>\n",
       "    <tr>\n",
       "      <th>17</th>\n",
       "      <td>0.023762</td>\n",
       "      <td>(66)</td>\n",
       "    </tr>\n",
       "    <tr>\n",
       "      <th>18</th>\n",
       "      <td>0.043175</td>\n",
       "      <td>(68)</td>\n",
       "    </tr>\n",
       "    <tr>\n",
       "      <th>19</th>\n",
       "      <td>0.039956</td>\n",
       "      <td>(69)</td>\n",
       "    </tr>\n",
       "    <tr>\n",
       "      <th>20</th>\n",
       "      <td>0.057827</td>\n",
       "      <td>(70)</td>\n",
       "    </tr>\n",
       "  </tbody>\n",
       "</table>\n",
       "</div>"
      ],
      "text/plain": [
       "     support itemsets\n",
       "0   0.040070      (5)\n",
       "1   0.029664      (6)\n",
       "2   0.096827      (7)\n",
       "3   0.068777     (15)\n",
       "4   0.010920     (16)\n",
       "5   0.037345     (20)\n",
       "6   0.026219     (27)\n",
       "7   0.019166     (28)\n",
       "8   0.066310     (40)\n",
       "9   0.036173     (43)\n",
       "10  0.090853     (44)\n",
       "11  0.060500     (50)\n",
       "12  0.010632     (53)\n",
       "13  0.013089     (57)\n",
       "14  0.032512     (59)\n",
       "15  0.017582     (60)\n",
       "16  0.079378     (65)\n",
       "17  0.023762     (66)\n",
       "18  0.043175     (68)\n",
       "19  0.039956     (69)\n",
       "20  0.057827     (70)"
      ]
     },
     "execution_count": 42,
     "metadata": {},
     "output_type": "execute_result"
    }
   ],
   "source": [
    "from mlxtend.frequent_patterns import apriori\n",
    "\n",
    "# Apply apriori algorithm to data with min support threshold of 0.01.\n",
    "frequent_itemsets = apriori(onehot, min_support = 0.01)\n",
    "\n",
    "# Print frequent itemsets.\n",
    "frequent_itemsets"
   ]
  },
  {
   "cell_type": "markdown",
   "metadata": {},
   "source": [
    "- apriori returns a DataFrame with a support column and an itemsets column.\n",
    "- By default apriori returns itemset numbers, rather than labels. We can change this by using the use_colnames parameter.\n",
    "- All itemsets with a support of greater than 0.01 contain a single item.\n",
    "\n",
    "- Use use_colnames to use item names, rather than integer IDs."
   ]
  },
  {
   "cell_type": "code",
   "execution_count": 43,
   "metadata": {},
   "outputs": [
    {
     "data": {
      "text/html": [
       "<div>\n",
       "<style scoped>\n",
       "    .dataframe tbody tr th:only-of-type {\n",
       "        vertical-align: middle;\n",
       "    }\n",
       "\n",
       "    .dataframe tbody tr th {\n",
       "        vertical-align: top;\n",
       "    }\n",
       "\n",
       "    .dataframe thead th {\n",
       "        text-align: right;\n",
       "    }\n",
       "</style>\n",
       "<table border=\"1\" class=\"dataframe\">\n",
       "  <thead>\n",
       "    <tr style=\"text-align: right;\">\n",
       "      <th></th>\n",
       "      <th>support</th>\n",
       "      <th>itemsets</th>\n",
       "    </tr>\n",
       "  </thead>\n",
       "  <tbody>\n",
       "    <tr>\n",
       "      <th>0</th>\n",
       "      <td>0.001871</td>\n",
       "      <td>(agro_industry_and_commerce)</td>\n",
       "    </tr>\n",
       "    <tr>\n",
       "      <th>1</th>\n",
       "      <td>0.002601</td>\n",
       "      <td>(air_conditioning)</td>\n",
       "    </tr>\n",
       "    <tr>\n",
       "      <th>2</th>\n",
       "      <td>0.002077</td>\n",
       "      <td>(art)</td>\n",
       "    </tr>\n",
       "    <tr>\n",
       "      <th>3</th>\n",
       "      <td>0.003599</td>\n",
       "      <td>(audio)</td>\n",
       "    </tr>\n",
       "    <tr>\n",
       "      <th>4</th>\n",
       "      <td>0.040070</td>\n",
       "      <td>(auto)</td>\n",
       "    </tr>\n",
       "    <tr>\n",
       "      <th>5</th>\n",
       "      <td>0.029664</td>\n",
       "      <td>(baby)</td>\n",
       "    </tr>\n",
       "    <tr>\n",
       "      <th>6</th>\n",
       "      <td>0.096827</td>\n",
       "      <td>(bed_bath_table)</td>\n",
       "    </tr>\n",
       "    <tr>\n",
       "      <th>7</th>\n",
       "      <td>0.005264</td>\n",
       "      <td>(books_general_interest)</td>\n",
       "    </tr>\n",
       "    <tr>\n",
       "      <th>8</th>\n",
       "      <td>0.002673</td>\n",
       "      <td>(books_technical)</td>\n",
       "    </tr>\n",
       "    <tr>\n",
       "      <th>9</th>\n",
       "      <td>0.001316</td>\n",
       "      <td>(christmas_supplies)</td>\n",
       "    </tr>\n",
       "    <tr>\n",
       "      <th>10</th>\n",
       "      <td>0.001861</td>\n",
       "      <td>(computers)</td>\n",
       "    </tr>\n",
       "    <tr>\n",
       "      <th>11</th>\n",
       "      <td>0.068777</td>\n",
       "      <td>(computers_accessories)</td>\n",
       "    </tr>\n",
       "    <tr>\n",
       "      <th>12</th>\n",
       "      <td>0.010920</td>\n",
       "      <td>(consoles_games)</td>\n",
       "    </tr>\n",
       "    <tr>\n",
       "      <th>13</th>\n",
       "      <td>0.007691</td>\n",
       "      <td>(construction_tools_construction)</td>\n",
       "    </tr>\n",
       "    <tr>\n",
       "      <th>14</th>\n",
       "      <td>0.002509</td>\n",
       "      <td>(construction_tools_lights)</td>\n",
       "    </tr>\n",
       "    <tr>\n",
       "      <th>15</th>\n",
       "      <td>0.001717</td>\n",
       "      <td>(construction_tools_safety)</td>\n",
       "    </tr>\n",
       "    <tr>\n",
       "      <th>16</th>\n",
       "      <td>0.037345</td>\n",
       "      <td>(cool_stuff)</td>\n",
       "    </tr>\n",
       "    <tr>\n",
       "      <th>17</th>\n",
       "      <td>0.001995</td>\n",
       "      <td>(costruction_tools_garden)</td>\n",
       "    </tr>\n",
       "    <tr>\n",
       "      <th>18</th>\n",
       "      <td>0.003054</td>\n",
       "      <td>(drinks)</td>\n",
       "    </tr>\n",
       "    <tr>\n",
       "      <th>19</th>\n",
       "      <td>0.026219</td>\n",
       "      <td>(electronics)</td>\n",
       "    </tr>\n",
       "    <tr>\n",
       "      <th>20</th>\n",
       "      <td>0.019166</td>\n",
       "      <td>(fashion_bags_accessories)</td>\n",
       "    </tr>\n",
       "    <tr>\n",
       "      <th>21</th>\n",
       "      <td>0.001152</td>\n",
       "      <td>(fashion_male_clothing)</td>\n",
       "    </tr>\n",
       "    <tr>\n",
       "      <th>22</th>\n",
       "      <td>0.002468</td>\n",
       "      <td>(fashion_shoes)</td>\n",
       "    </tr>\n",
       "    <tr>\n",
       "      <th>23</th>\n",
       "      <td>0.001244</td>\n",
       "      <td>(fashion_underwear_beach)</td>\n",
       "    </tr>\n",
       "    <tr>\n",
       "      <th>24</th>\n",
       "      <td>0.002231</td>\n",
       "      <td>(fixed_telephony)</td>\n",
       "    </tr>\n",
       "    <tr>\n",
       "      <th>25</th>\n",
       "      <td>0.004627</td>\n",
       "      <td>(food)</td>\n",
       "    </tr>\n",
       "    <tr>\n",
       "      <th>26</th>\n",
       "      <td>0.002334</td>\n",
       "      <td>(food_drink)</td>\n",
       "    </tr>\n",
       "    <tr>\n",
       "      <th>27</th>\n",
       "      <td>0.066310</td>\n",
       "      <td>(furniture_decor)</td>\n",
       "    </tr>\n",
       "    <tr>\n",
       "      <th>28</th>\n",
       "      <td>0.004339</td>\n",
       "      <td>(furniture_living_room)</td>\n",
       "    </tr>\n",
       "    <tr>\n",
       "      <th>29</th>\n",
       "      <td>0.036173</td>\n",
       "      <td>(garden_tools)</td>\n",
       "    </tr>\n",
       "    <tr>\n",
       "      <th>30</th>\n",
       "      <td>0.090853</td>\n",
       "      <td>(health_beauty)</td>\n",
       "    </tr>\n",
       "    <tr>\n",
       "      <th>31</th>\n",
       "      <td>0.007856</td>\n",
       "      <td>(home_appliances)</td>\n",
       "    </tr>\n",
       "    <tr>\n",
       "      <th>32</th>\n",
       "      <td>0.002406</td>\n",
       "      <td>(home_appliances_2)</td>\n",
       "    </tr>\n",
       "    <tr>\n",
       "      <th>33</th>\n",
       "      <td>0.004082</td>\n",
       "      <td>(home_comfort)</td>\n",
       "    </tr>\n",
       "    <tr>\n",
       "      <th>34</th>\n",
       "      <td>0.005038</td>\n",
       "      <td>(home_construction)</td>\n",
       "    </tr>\n",
       "    <tr>\n",
       "      <th>35</th>\n",
       "      <td>0.060500</td>\n",
       "      <td>(housewares)</td>\n",
       "    </tr>\n",
       "    <tr>\n",
       "      <th>36</th>\n",
       "      <td>0.002416</td>\n",
       "      <td>(industry_commerce_and_business)</td>\n",
       "    </tr>\n",
       "    <tr>\n",
       "      <th>37</th>\n",
       "      <td>0.002550</td>\n",
       "      <td>(kitchen_dining_laundry_garden_furniture)</td>\n",
       "    </tr>\n",
       "    <tr>\n",
       "      <th>38</th>\n",
       "      <td>0.010632</td>\n",
       "      <td>(luggage_accessories)</td>\n",
       "    </tr>\n",
       "    <tr>\n",
       "      <th>39</th>\n",
       "      <td>0.002879</td>\n",
       "      <td>(market_place)</td>\n",
       "    </tr>\n",
       "    <tr>\n",
       "      <th>40</th>\n",
       "      <td>0.006457</td>\n",
       "      <td>(musical_instruments)</td>\n",
       "    </tr>\n",
       "    <tr>\n",
       "      <th>41</th>\n",
       "      <td>0.013089</td>\n",
       "      <td>(office_furniture)</td>\n",
       "    </tr>\n",
       "    <tr>\n",
       "      <th>42</th>\n",
       "      <td>0.032512</td>\n",
       "      <td>(perfume)</td>\n",
       "    </tr>\n",
       "    <tr>\n",
       "      <th>43</th>\n",
       "      <td>0.017582</td>\n",
       "      <td>(pet_shop)</td>\n",
       "    </tr>\n",
       "    <tr>\n",
       "      <th>44</th>\n",
       "      <td>0.001439</td>\n",
       "      <td>(signaling_and_security)</td>\n",
       "    </tr>\n",
       "    <tr>\n",
       "      <th>45</th>\n",
       "      <td>0.006478</td>\n",
       "      <td>(small_appliances)</td>\n",
       "    </tr>\n",
       "    <tr>\n",
       "      <th>46</th>\n",
       "      <td>0.079378</td>\n",
       "      <td>(sports_leisure)</td>\n",
       "    </tr>\n",
       "    <tr>\n",
       "      <th>47</th>\n",
       "      <td>0.023762</td>\n",
       "      <td>(stationery)</td>\n",
       "    </tr>\n",
       "    <tr>\n",
       "      <th>48</th>\n",
       "      <td>0.043175</td>\n",
       "      <td>(telephony)</td>\n",
       "    </tr>\n",
       "    <tr>\n",
       "      <th>49</th>\n",
       "      <td>0.039956</td>\n",
       "      <td>(toys)</td>\n",
       "    </tr>\n",
       "    <tr>\n",
       "      <th>50</th>\n",
       "      <td>0.057827</td>\n",
       "      <td>(watches_gifts)</td>\n",
       "    </tr>\n",
       "    <tr>\n",
       "      <th>51</th>\n",
       "      <td>0.003218</td>\n",
       "      <td>(books)</td>\n",
       "    </tr>\n",
       "    <tr>\n",
       "      <th>52</th>\n",
       "      <td>0.002673</td>\n",
       "      <td>(books, books_technical)</td>\n",
       "    </tr>\n",
       "  </tbody>\n",
       "</table>\n",
       "</div>"
      ],
      "text/plain": [
       "     support                                   itemsets\n",
       "0   0.001871               (agro_industry_and_commerce)\n",
       "1   0.002601                         (air_conditioning)\n",
       "2   0.002077                                      (art)\n",
       "3   0.003599                                    (audio)\n",
       "4   0.040070                                     (auto)\n",
       "5   0.029664                                     (baby)\n",
       "6   0.096827                           (bed_bath_table)\n",
       "7   0.005264                   (books_general_interest)\n",
       "8   0.002673                          (books_technical)\n",
       "9   0.001316                       (christmas_supplies)\n",
       "10  0.001861                                (computers)\n",
       "11  0.068777                    (computers_accessories)\n",
       "12  0.010920                           (consoles_games)\n",
       "13  0.007691          (construction_tools_construction)\n",
       "14  0.002509                (construction_tools_lights)\n",
       "15  0.001717                (construction_tools_safety)\n",
       "16  0.037345                               (cool_stuff)\n",
       "17  0.001995                 (costruction_tools_garden)\n",
       "18  0.003054                                   (drinks)\n",
       "19  0.026219                              (electronics)\n",
       "20  0.019166                 (fashion_bags_accessories)\n",
       "21  0.001152                    (fashion_male_clothing)\n",
       "22  0.002468                            (fashion_shoes)\n",
       "23  0.001244                  (fashion_underwear_beach)\n",
       "24  0.002231                          (fixed_telephony)\n",
       "25  0.004627                                     (food)\n",
       "26  0.002334                               (food_drink)\n",
       "27  0.066310                          (furniture_decor)\n",
       "28  0.004339                    (furniture_living_room)\n",
       "29  0.036173                             (garden_tools)\n",
       "30  0.090853                            (health_beauty)\n",
       "31  0.007856                          (home_appliances)\n",
       "32  0.002406                        (home_appliances_2)\n",
       "33  0.004082                             (home_comfort)\n",
       "34  0.005038                        (home_construction)\n",
       "35  0.060500                               (housewares)\n",
       "36  0.002416           (industry_commerce_and_business)\n",
       "37  0.002550  (kitchen_dining_laundry_garden_furniture)\n",
       "38  0.010632                      (luggage_accessories)\n",
       "39  0.002879                             (market_place)\n",
       "40  0.006457                      (musical_instruments)\n",
       "41  0.013089                         (office_furniture)\n",
       "42  0.032512                                  (perfume)\n",
       "43  0.017582                                 (pet_shop)\n",
       "44  0.001439                   (signaling_and_security)\n",
       "45  0.006478                         (small_appliances)\n",
       "46  0.079378                           (sports_leisure)\n",
       "47  0.023762                               (stationery)\n",
       "48  0.043175                                (telephony)\n",
       "49  0.039956                                     (toys)\n",
       "50  0.057827                            (watches_gifts)\n",
       "51  0.003218                                    (books)\n",
       "52  0.002673                   (books, books_technical)"
      ]
     },
     "execution_count": 43,
     "metadata": {},
     "output_type": "execute_result"
    }
   ],
   "source": [
    "# Apply apriori algorithm to data with min support threshold of 0.001.\n",
    "frequent_itemsets = apriori(onehot, min_support = 0.001, use_colnames = True)\n",
    "\n",
    "# Print frequent itemsets.\n",
    "frequent_itemsets"
   ]
  },
  {
   "cell_type": "markdown",
   "metadata": {},
   "source": [
    "Lowering the support threshold increased the number of itemsets returned and even yielded itemsets with more than one item."
   ]
  },
  {
   "cell_type": "code",
   "execution_count": 44,
   "metadata": {},
   "outputs": [
    {
     "data": {
      "text/html": [
       "<div>\n",
       "<style scoped>\n",
       "    .dataframe tbody tr th:only-of-type {\n",
       "        vertical-align: middle;\n",
       "    }\n",
       "\n",
       "    .dataframe tbody tr th {\n",
       "        vertical-align: top;\n",
       "    }\n",
       "\n",
       "    .dataframe thead th {\n",
       "        text-align: right;\n",
       "    }\n",
       "</style>\n",
       "<table border=\"1\" class=\"dataframe\">\n",
       "  <thead>\n",
       "    <tr style=\"text-align: right;\">\n",
       "      <th></th>\n",
       "      <th>support</th>\n",
       "      <th>itemsets</th>\n",
       "    </tr>\n",
       "  </thead>\n",
       "  <tbody>\n",
       "    <tr>\n",
       "      <th>0</th>\n",
       "      <td>0.001871</td>\n",
       "      <td>(agro_industry_and_commerce)</td>\n",
       "    </tr>\n",
       "    <tr>\n",
       "      <th>1</th>\n",
       "      <td>0.002601</td>\n",
       "      <td>(air_conditioning)</td>\n",
       "    </tr>\n",
       "    <tr>\n",
       "      <th>2</th>\n",
       "      <td>0.002077</td>\n",
       "      <td>(art)</td>\n",
       "    </tr>\n",
       "    <tr>\n",
       "      <th>3</th>\n",
       "      <td>0.000236</td>\n",
       "      <td>(arts_and_crafts)</td>\n",
       "    </tr>\n",
       "    <tr>\n",
       "      <th>4</th>\n",
       "      <td>0.003599</td>\n",
       "      <td>(audio)</td>\n",
       "    </tr>\n",
       "    <tr>\n",
       "      <th>...</th>\n",
       "      <td>...</td>\n",
       "      <td>...</td>\n",
       "    </tr>\n",
       "    <tr>\n",
       "      <th>108</th>\n",
       "      <td>0.000051</td>\n",
       "      <td>(luggage_accessories, stationery)</td>\n",
       "    </tr>\n",
       "    <tr>\n",
       "      <th>109</th>\n",
       "      <td>0.000051</td>\n",
       "      <td>(sports_leisure, watches_gifts)</td>\n",
       "    </tr>\n",
       "    <tr>\n",
       "      <th>110</th>\n",
       "      <td>0.000144</td>\n",
       "      <td>(sports_leisure, sports_leisure_health_beauty)</td>\n",
       "    </tr>\n",
       "    <tr>\n",
       "      <th>111</th>\n",
       "      <td>0.000062</td>\n",
       "      <td>(toys, stationery)</td>\n",
       "    </tr>\n",
       "    <tr>\n",
       "      <th>112</th>\n",
       "      <td>0.000144</td>\n",
       "      <td>(sports_leisure, sports_leisure_health_beauty,...</td>\n",
       "    </tr>\n",
       "  </tbody>\n",
       "</table>\n",
       "<p>113 rows × 2 columns</p>\n",
       "</div>"
      ],
      "text/plain": [
       "      support                                           itemsets\n",
       "0    0.001871                       (agro_industry_and_commerce)\n",
       "1    0.002601                                 (air_conditioning)\n",
       "2    0.002077                                              (art)\n",
       "3    0.000236                                  (arts_and_crafts)\n",
       "4    0.003599                                            (audio)\n",
       "..        ...                                                ...\n",
       "108  0.000051                  (luggage_accessories, stationery)\n",
       "109  0.000051                    (sports_leisure, watches_gifts)\n",
       "110  0.000144     (sports_leisure, sports_leisure_health_beauty)\n",
       "111  0.000062                                 (toys, stationery)\n",
       "112  0.000144  (sports_leisure, sports_leisure_health_beauty,...\n",
       "\n",
       "[113 rows x 2 columns]"
      ]
     },
     "execution_count": 44,
     "metadata": {},
     "output_type": "execute_result"
    }
   ],
   "source": [
    "# Apply apriori algorithm to data with min support threshold of 0.00005.\n",
    "frequent_itemsets = apriori(onehot, min_support = 0.00005, use_colnames = True)\n",
    "\n",
    "# Print frequent itemsets.\n",
    "frequent_itemsets"
   ]
  },
  {
   "cell_type": "markdown",
   "metadata": {},
   "source": [
    "Notice how low we must set the support threshold (0.005%) to return a high number of itemsets with more than one item."
   ]
  },
  {
   "cell_type": "code",
   "execution_count": 45,
   "metadata": {},
   "outputs": [],
   "source": [
    "# Apply apriori algorithm to data with a two-item limit.\n",
    "frequent_itemsets = apriori(onehot, min_support = 0.00005, max_len = 2, use_colnames = True)"
   ]
  },
  {
   "cell_type": "markdown",
   "metadata": {},
   "source": [
    "What do we gain from the apriori algorithm? We start off with $2^{71}$ potential itemsets and immediately reduce it to 113 without enumerating all $2^{71}$ itemsets."
   ]
  },
  {
   "cell_type": "markdown",
   "metadata": {},
   "source": [
    "### Computing association rules from Apriori output\n",
    "\n",
    "- Use association_rules() to compute and prune association rules from output of apriori()"
   ]
  },
  {
   "cell_type": "code",
   "execution_count": 46,
   "metadata": {},
   "outputs": [
    {
     "data": {
      "text/html": [
       "<div>\n",
       "<style scoped>\n",
       "    .dataframe tbody tr th:only-of-type {\n",
       "        vertical-align: middle;\n",
       "    }\n",
       "\n",
       "    .dataframe tbody tr th {\n",
       "        vertical-align: top;\n",
       "    }\n",
       "\n",
       "    .dataframe thead th {\n",
       "        text-align: right;\n",
       "    }\n",
       "</style>\n",
       "<table border=\"1\" class=\"dataframe\">\n",
       "  <thead>\n",
       "    <tr style=\"text-align: right;\">\n",
       "      <th></th>\n",
       "      <th>antecedents</th>\n",
       "      <th>consequents</th>\n",
       "      <th>antecedent support</th>\n",
       "      <th>consequent support</th>\n",
       "      <th>support</th>\n",
       "      <th>confidence</th>\n",
       "      <th>lift</th>\n",
       "      <th>leverage</th>\n",
       "      <th>conviction</th>\n",
       "    </tr>\n",
       "  </thead>\n",
       "  <tbody>\n",
       "    <tr>\n",
       "      <th>0</th>\n",
       "      <td>(baby)</td>\n",
       "      <td>(bed_bath_table)</td>\n",
       "      <td>0.029664</td>\n",
       "      <td>0.096827</td>\n",
       "      <td>0.000175</td>\n",
       "      <td>0.005893</td>\n",
       "      <td>0.060856</td>\n",
       "      <td>-0.002697</td>\n",
       "      <td>0.908527</td>\n",
       "    </tr>\n",
       "    <tr>\n",
       "      <th>1</th>\n",
       "      <td>(bed_bath_table)</td>\n",
       "      <td>(baby)</td>\n",
       "      <td>0.096827</td>\n",
       "      <td>0.029664</td>\n",
       "      <td>0.000175</td>\n",
       "      <td>0.001805</td>\n",
       "      <td>0.060856</td>\n",
       "      <td>-0.002697</td>\n",
       "      <td>0.972091</td>\n",
       "    </tr>\n",
       "    <tr>\n",
       "      <th>2</th>\n",
       "      <td>(cool_stuff)</td>\n",
       "      <td>(baby)</td>\n",
       "      <td>0.037345</td>\n",
       "      <td>0.029664</td>\n",
       "      <td>0.000206</td>\n",
       "      <td>0.005507</td>\n",
       "      <td>0.185633</td>\n",
       "      <td>-0.000902</td>\n",
       "      <td>0.975709</td>\n",
       "    </tr>\n",
       "    <tr>\n",
       "      <th>3</th>\n",
       "      <td>(baby)</td>\n",
       "      <td>(cool_stuff)</td>\n",
       "      <td>0.029664</td>\n",
       "      <td>0.037345</td>\n",
       "      <td>0.000206</td>\n",
       "      <td>0.006932</td>\n",
       "      <td>0.185633</td>\n",
       "      <td>-0.000902</td>\n",
       "      <td>0.969375</td>\n",
       "    </tr>\n",
       "    <tr>\n",
       "      <th>4</th>\n",
       "      <td>(furniture_decor)</td>\n",
       "      <td>(baby)</td>\n",
       "      <td>0.066310</td>\n",
       "      <td>0.029664</td>\n",
       "      <td>0.000123</td>\n",
       "      <td>0.001861</td>\n",
       "      <td>0.062728</td>\n",
       "      <td>-0.001844</td>\n",
       "      <td>0.972145</td>\n",
       "    </tr>\n",
       "  </tbody>\n",
       "</table>\n",
       "</div>"
      ],
      "text/plain": [
       "         antecedents       consequents  antecedent support  \\\n",
       "0             (baby)  (bed_bath_table)            0.029664   \n",
       "1   (bed_bath_table)            (baby)            0.096827   \n",
       "2       (cool_stuff)            (baby)            0.037345   \n",
       "3             (baby)      (cool_stuff)            0.029664   \n",
       "4  (furniture_decor)            (baby)            0.066310   \n",
       "\n",
       "   consequent support   support  confidence      lift  leverage  conviction  \n",
       "0            0.096827  0.000175    0.005893  0.060856 -0.002697    0.908527  \n",
       "1            0.029664  0.000175    0.001805  0.060856 -0.002697    0.972091  \n",
       "2            0.029664  0.000206    0.005507  0.185633 -0.000902    0.975709  \n",
       "3            0.037345  0.000206    0.006932  0.185633 -0.000902    0.969375  \n",
       "4            0.029664  0.000123    0.001861  0.062728 -0.001844    0.972145  "
      ]
     },
     "execution_count": 46,
     "metadata": {},
     "output_type": "execute_result"
    }
   ],
   "source": [
    "from mlxtend.frequent_patterns import association_rules\n",
    "\n",
    "# Recover association rules using support and a minimum threshold of 0.0001.\n",
    "rules = association_rules(frequent_itemsets, metric = 'support', min_threshold = 0.0001)\n",
    "\n",
    "# Print rules header.\n",
    "rules.head()"
   ]
  },
  {
   "cell_type": "markdown",
   "metadata": {},
   "source": [
    "Notice that association_rules automatically computes seven metrics."
   ]
  },
  {
   "cell_type": "markdown",
   "metadata": {},
   "source": [
    "### Pruning association rules"
   ]
  },
  {
   "cell_type": "code",
   "execution_count": 48,
   "metadata": {},
   "outputs": [
    {
     "data": {
      "text/html": [
       "<div>\n",
       "<style scoped>\n",
       "    .dataframe tbody tr th:only-of-type {\n",
       "        vertical-align: middle;\n",
       "    }\n",
       "\n",
       "    .dataframe tbody tr th {\n",
       "        vertical-align: top;\n",
       "    }\n",
       "\n",
       "    .dataframe thead th {\n",
       "        text-align: right;\n",
       "    }\n",
       "</style>\n",
       "<table border=\"1\" class=\"dataframe\">\n",
       "  <thead>\n",
       "    <tr style=\"text-align: right;\">\n",
       "      <th></th>\n",
       "      <th>antecedents</th>\n",
       "      <th>consequents</th>\n",
       "      <th>antecedent support</th>\n",
       "      <th>consequent support</th>\n",
       "      <th>support</th>\n",
       "      <th>confidence</th>\n",
       "      <th>lift</th>\n",
       "      <th>leverage</th>\n",
       "      <th>conviction</th>\n",
       "    </tr>\n",
       "  </thead>\n",
       "  <tbody>\n",
       "    <tr>\n",
       "      <th>0</th>\n",
       "      <td>(art)</td>\n",
       "      <td>(furniture_decor)</td>\n",
       "      <td>0.002077</td>\n",
       "      <td>0.066310</td>\n",
       "      <td>0.000051</td>\n",
       "      <td>0.024752</td>\n",
       "      <td>0.373287</td>\n",
       "      <td>-0.000086</td>\n",
       "      <td>0.957388</td>\n",
       "    </tr>\n",
       "    <tr>\n",
       "      <th>1</th>\n",
       "      <td>(audio)</td>\n",
       "      <td>(watches_gifts)</td>\n",
       "      <td>0.003599</td>\n",
       "      <td>0.057827</td>\n",
       "      <td>0.000062</td>\n",
       "      <td>0.017143</td>\n",
       "      <td>0.296452</td>\n",
       "      <td>-0.000146</td>\n",
       "      <td>0.958606</td>\n",
       "    </tr>\n",
       "    <tr>\n",
       "      <th>2</th>\n",
       "      <td>(furniture_decor)</td>\n",
       "      <td>(bed_bath_table)</td>\n",
       "      <td>0.066310</td>\n",
       "      <td>0.096827</td>\n",
       "      <td>0.000720</td>\n",
       "      <td>0.010854</td>\n",
       "      <td>0.112101</td>\n",
       "      <td>-0.005701</td>\n",
       "      <td>0.913084</td>\n",
       "    </tr>\n",
       "    <tr>\n",
       "      <th>3</th>\n",
       "      <td>(home_comfort)</td>\n",
       "      <td>(bed_bath_table)</td>\n",
       "      <td>0.004082</td>\n",
       "      <td>0.096827</td>\n",
       "      <td>0.000442</td>\n",
       "      <td>0.108312</td>\n",
       "      <td>1.118618</td>\n",
       "      <td>0.000047</td>\n",
       "      <td>1.012881</td>\n",
       "    </tr>\n",
       "    <tr>\n",
       "      <th>4</th>\n",
       "      <td>(books)</td>\n",
       "      <td>(books_imported)</td>\n",
       "      <td>0.003218</td>\n",
       "      <td>0.000545</td>\n",
       "      <td>0.000545</td>\n",
       "      <td>0.169329</td>\n",
       "      <td>310.722045</td>\n",
       "      <td>0.000543</td>\n",
       "      <td>1.203190</td>\n",
       "    </tr>\n",
       "    <tr>\n",
       "      <th>5</th>\n",
       "      <td>(books_imported)</td>\n",
       "      <td>(books)</td>\n",
       "      <td>0.000545</td>\n",
       "      <td>0.003218</td>\n",
       "      <td>0.000545</td>\n",
       "      <td>1.000000</td>\n",
       "      <td>310.722045</td>\n",
       "      <td>0.000543</td>\n",
       "      <td>inf</td>\n",
       "    </tr>\n",
       "    <tr>\n",
       "      <th>6</th>\n",
       "      <td>(books)</td>\n",
       "      <td>(books_technical)</td>\n",
       "      <td>0.003218</td>\n",
       "      <td>0.002673</td>\n",
       "      <td>0.002673</td>\n",
       "      <td>0.830671</td>\n",
       "      <td>310.722045</td>\n",
       "      <td>0.002665</td>\n",
       "      <td>5.889872</td>\n",
       "    </tr>\n",
       "    <tr>\n",
       "      <th>7</th>\n",
       "      <td>(books_technical)</td>\n",
       "      <td>(books)</td>\n",
       "      <td>0.002673</td>\n",
       "      <td>0.003218</td>\n",
       "      <td>0.002673</td>\n",
       "      <td>1.000000</td>\n",
       "      <td>310.722045</td>\n",
       "      <td>0.002665</td>\n",
       "      <td>inf</td>\n",
       "    </tr>\n",
       "    <tr>\n",
       "      <th>8</th>\n",
       "      <td>(construction_tools_lights)</td>\n",
       "      <td>(furniture_decor)</td>\n",
       "      <td>0.002509</td>\n",
       "      <td>0.066310</td>\n",
       "      <td>0.000113</td>\n",
       "      <td>0.045082</td>\n",
       "      <td>0.679872</td>\n",
       "      <td>-0.000053</td>\n",
       "      <td>0.977770</td>\n",
       "    </tr>\n",
       "    <tr>\n",
       "      <th>9</th>\n",
       "      <td>(furniture_living_room)</td>\n",
       "      <td>(furniture_decor)</td>\n",
       "      <td>0.004339</td>\n",
       "      <td>0.066310</td>\n",
       "      <td>0.000072</td>\n",
       "      <td>0.016588</td>\n",
       "      <td>0.250155</td>\n",
       "      <td>-0.000216</td>\n",
       "      <td>0.949439</td>\n",
       "    </tr>\n",
       "    <tr>\n",
       "      <th>10</th>\n",
       "      <td>(home_comfort)</td>\n",
       "      <td>(furniture_decor)</td>\n",
       "      <td>0.004082</td>\n",
       "      <td>0.066310</td>\n",
       "      <td>0.000062</td>\n",
       "      <td>0.015113</td>\n",
       "      <td>0.227921</td>\n",
       "      <td>-0.000209</td>\n",
       "      <td>0.948018</td>\n",
       "    </tr>\n",
       "    <tr>\n",
       "      <th>11</th>\n",
       "      <td>(home_construction)</td>\n",
       "      <td>(furniture_decor)</td>\n",
       "      <td>0.005038</td>\n",
       "      <td>0.066310</td>\n",
       "      <td>0.000134</td>\n",
       "      <td>0.026531</td>\n",
       "      <td>0.400103</td>\n",
       "      <td>-0.000200</td>\n",
       "      <td>0.959137</td>\n",
       "    </tr>\n",
       "    <tr>\n",
       "      <th>12</th>\n",
       "      <td>(home_construction)</td>\n",
       "      <td>(garden_tools)</td>\n",
       "      <td>0.005038</td>\n",
       "      <td>0.036173</td>\n",
       "      <td>0.000072</td>\n",
       "      <td>0.014286</td>\n",
       "      <td>0.394932</td>\n",
       "      <td>-0.000110</td>\n",
       "      <td>0.977796</td>\n",
       "    </tr>\n",
       "    <tr>\n",
       "      <th>13</th>\n",
       "      <td>(sports_leisure_health_beauty)</td>\n",
       "      <td>(health_beauty)</td>\n",
       "      <td>0.000144</td>\n",
       "      <td>0.090853</td>\n",
       "      <td>0.000144</td>\n",
       "      <td>1.000000</td>\n",
       "      <td>11.006790</td>\n",
       "      <td>0.000131</td>\n",
       "      <td>inf</td>\n",
       "    </tr>\n",
       "    <tr>\n",
       "      <th>14</th>\n",
       "      <td>(sports_leisure_health_beauty)</td>\n",
       "      <td>(sports_leisure)</td>\n",
       "      <td>0.000144</td>\n",
       "      <td>0.079378</td>\n",
       "      <td>0.000144</td>\n",
       "      <td>1.000000</td>\n",
       "      <td>12.597927</td>\n",
       "      <td>0.000133</td>\n",
       "      <td>inf</td>\n",
       "    </tr>\n",
       "  </tbody>\n",
       "</table>\n",
       "</div>"
      ],
      "text/plain": [
       "                       antecedents        consequents  antecedent support  \\\n",
       "0                            (art)  (furniture_decor)            0.002077   \n",
       "1                          (audio)    (watches_gifts)            0.003599   \n",
       "2                (furniture_decor)   (bed_bath_table)            0.066310   \n",
       "3                   (home_comfort)   (bed_bath_table)            0.004082   \n",
       "4                          (books)   (books_imported)            0.003218   \n",
       "5                 (books_imported)            (books)            0.000545   \n",
       "6                          (books)  (books_technical)            0.003218   \n",
       "7                (books_technical)            (books)            0.002673   \n",
       "8      (construction_tools_lights)  (furniture_decor)            0.002509   \n",
       "9          (furniture_living_room)  (furniture_decor)            0.004339   \n",
       "10                  (home_comfort)  (furniture_decor)            0.004082   \n",
       "11             (home_construction)  (furniture_decor)            0.005038   \n",
       "12             (home_construction)     (garden_tools)            0.005038   \n",
       "13  (sports_leisure_health_beauty)    (health_beauty)            0.000144   \n",
       "14  (sports_leisure_health_beauty)   (sports_leisure)            0.000144   \n",
       "\n",
       "    consequent support   support  confidence        lift  leverage  conviction  \n",
       "0             0.066310  0.000051    0.024752    0.373287 -0.000086    0.957388  \n",
       "1             0.057827  0.000062    0.017143    0.296452 -0.000146    0.958606  \n",
       "2             0.096827  0.000720    0.010854    0.112101 -0.005701    0.913084  \n",
       "3             0.096827  0.000442    0.108312    1.118618  0.000047    1.012881  \n",
       "4             0.000545  0.000545    0.169329  310.722045  0.000543    1.203190  \n",
       "5             0.003218  0.000545    1.000000  310.722045  0.000543         inf  \n",
       "6             0.002673  0.002673    0.830671  310.722045  0.002665    5.889872  \n",
       "7             0.003218  0.002673    1.000000  310.722045  0.002665         inf  \n",
       "8             0.066310  0.000113    0.045082    0.679872 -0.000053    0.977770  \n",
       "9             0.066310  0.000072    0.016588    0.250155 -0.000216    0.949439  \n",
       "10            0.066310  0.000062    0.015113    0.227921 -0.000209    0.948018  \n",
       "11            0.066310  0.000134    0.026531    0.400103 -0.000200    0.959137  \n",
       "12            0.036173  0.000072    0.014286    0.394932 -0.000110    0.977796  \n",
       "13            0.090853  0.000144    1.000000   11.006790  0.000131         inf  \n",
       "14            0.079378  0.000144    1.000000   12.597927  0.000133         inf  "
      ]
     },
     "execution_count": 48,
     "metadata": {},
     "output_type": "execute_result"
    }
   ],
   "source": [
    "# Recover association rules using confidence threshold of 0.01.\n",
    "rules = association_rules(frequent_itemsets, metric = 'confidence', min_threshold = 0.01)\n",
    "\n",
    "# Print rules.\n",
    "rules"
   ]
  },
  {
   "cell_type": "code",
   "execution_count": 49,
   "metadata": {},
   "outputs": [
    {
     "data": {
      "text/html": [
       "<div>\n",
       "<style scoped>\n",
       "    .dataframe tbody tr th:only-of-type {\n",
       "        vertical-align: middle;\n",
       "    }\n",
       "\n",
       "    .dataframe tbody tr th {\n",
       "        vertical-align: top;\n",
       "    }\n",
       "\n",
       "    .dataframe thead th {\n",
       "        text-align: right;\n",
       "    }\n",
       "</style>\n",
       "<table border=\"1\" class=\"dataframe\">\n",
       "  <thead>\n",
       "    <tr style=\"text-align: right;\">\n",
       "      <th></th>\n",
       "      <th>antecedents</th>\n",
       "      <th>consequents</th>\n",
       "      <th>antecedent support</th>\n",
       "      <th>consequent support</th>\n",
       "      <th>support</th>\n",
       "      <th>confidence</th>\n",
       "      <th>lift</th>\n",
       "      <th>leverage</th>\n",
       "      <th>conviction</th>\n",
       "    </tr>\n",
       "  </thead>\n",
       "  <tbody>\n",
       "    <tr>\n",
       "      <th>2</th>\n",
       "      <td>(furniture_decor)</td>\n",
       "      <td>(bed_bath_table)</td>\n",
       "      <td>0.066310</td>\n",
       "      <td>0.096827</td>\n",
       "      <td>0.000720</td>\n",
       "      <td>0.010854</td>\n",
       "      <td>0.112101</td>\n",
       "      <td>-0.005701</td>\n",
       "      <td>0.913084</td>\n",
       "    </tr>\n",
       "    <tr>\n",
       "      <th>3</th>\n",
       "      <td>(home_comfort)</td>\n",
       "      <td>(bed_bath_table)</td>\n",
       "      <td>0.004082</td>\n",
       "      <td>0.096827</td>\n",
       "      <td>0.000442</td>\n",
       "      <td>0.108312</td>\n",
       "      <td>1.118618</td>\n",
       "      <td>0.000047</td>\n",
       "      <td>1.012881</td>\n",
       "    </tr>\n",
       "  </tbody>\n",
       "</table>\n",
       "</div>"
      ],
      "text/plain": [
       "         antecedents       consequents  antecedent support  \\\n",
       "2  (furniture_decor)  (bed_bath_table)            0.066310   \n",
       "3     (home_comfort)  (bed_bath_table)            0.004082   \n",
       "\n",
       "   consequent support   support  confidence      lift  leverage  conviction  \n",
       "2            0.096827  0.000720    0.010854  0.112101 -0.005701    0.913084  \n",
       "3            0.096827  0.000442    0.108312  1.118618  0.000047    1.012881  "
      ]
     },
     "execution_count": 49,
     "metadata": {},
     "output_type": "execute_result"
    }
   ],
   "source": [
    "# Select rules with a consequent support above 0.095.\n",
    "rules = rules[rules['consequent support'] > 0.095]\n",
    "\n",
    "# Print rules.\n",
    "rules"
   ]
  },
  {
   "cell_type": "markdown",
   "metadata": {},
   "source": [
    "### The leverage metric\n",
    "- Leverage provides a sanity check.\n",
    "    - $support(antecedent, consequent)$ = joint support in data.\n",
    "    - $support(antecedent) * support(consequent)$ = expected joint support for unrelated antecedent and consequent.\n",
    "- Leverage formula\n",
    "    - $$leverage(antecendent, consequent) = \n",
    "support(antecedent, consequent) - support(antecedent) * support(consequent)$$\n",
    "- For most problems, we will discard itemsets with negative leverage.\n",
    "    - Negative leverage means that the items appear together less frequently than we would expect if they were randomly and independently distributed across transactions."
   ]
  },
  {
   "cell_type": "code",
   "execution_count": 50,
   "metadata": {},
   "outputs": [
    {
     "data": {
      "text/html": [
       "<div>\n",
       "<style scoped>\n",
       "    .dataframe tbody tr th:only-of-type {\n",
       "        vertical-align: middle;\n",
       "    }\n",
       "\n",
       "    .dataframe tbody tr th {\n",
       "        vertical-align: top;\n",
       "    }\n",
       "\n",
       "    .dataframe thead th {\n",
       "        text-align: right;\n",
       "    }\n",
       "</style>\n",
       "<table border=\"1\" class=\"dataframe\">\n",
       "  <thead>\n",
       "    <tr style=\"text-align: right;\">\n",
       "      <th></th>\n",
       "      <th>antecedents</th>\n",
       "      <th>consequents</th>\n",
       "      <th>antecedent support</th>\n",
       "      <th>consequent support</th>\n",
       "      <th>support</th>\n",
       "      <th>confidence</th>\n",
       "      <th>lift</th>\n",
       "      <th>leverage</th>\n",
       "      <th>conviction</th>\n",
       "    </tr>\n",
       "  </thead>\n",
       "  <tbody>\n",
       "    <tr>\n",
       "      <th>3</th>\n",
       "      <td>(home_comfort)</td>\n",
       "      <td>(bed_bath_table)</td>\n",
       "      <td>0.004082</td>\n",
       "      <td>0.096827</td>\n",
       "      <td>0.000442</td>\n",
       "      <td>0.108312</td>\n",
       "      <td>1.118618</td>\n",
       "      <td>0.000047</td>\n",
       "      <td>1.012881</td>\n",
       "    </tr>\n",
       "  </tbody>\n",
       "</table>\n",
       "</div>"
      ],
      "text/plain": [
       "      antecedents       consequents  antecedent support  consequent support  \\\n",
       "3  (home_comfort)  (bed_bath_table)            0.004082            0.096827   \n",
       "\n",
       "    support  confidence      lift  leverage  conviction  \n",
       "3  0.000442    0.108312  1.118618  0.000047    1.012881  "
      ]
     },
     "execution_count": 50,
     "metadata": {},
     "output_type": "execute_result"
    }
   ],
   "source": [
    "# Select rules with leverage higher than 0.0.\n",
    "rules = rules[rules['leverage'] > 0.0]\n",
    "\n",
    "# Print rules.\n",
    "rules"
   ]
  },
  {
   "cell_type": "markdown",
   "metadata": {},
   "source": [
    "The Apriori algorithm reduced the number of itemsets from $2^{71}$ to 113. Pruning allowed us to identify to a single association rule that could be useful for cross-promotional purposes: $\\{home\\_comfort\\} \\rightarrow \\{bed\\_bath\\_table\\}$."
   ]
  },
  {
   "cell_type": "markdown",
   "metadata": {},
   "source": [
    "### Visualizing patterns in metrics"
   ]
  },
  {
   "cell_type": "code",
   "execution_count": 51,
   "metadata": {},
   "outputs": [
    {
     "data": {
      "text/plain": [
       "<matplotlib.axes._subplots.AxesSubplot at 0x1aea80397c0>"
      ]
     },
     "execution_count": 51,
     "metadata": {},
     "output_type": "execute_result"
    },
    {
     "data": {
      "image/png": "[encoded data removed]",
      "text/plain": [
       "<Figure size 1080x360 with 1 Axes>"
      ]
     },
     "metadata": {},
     "output_type": "display_data"
    }
   ],
   "source": [
    "# Recover association rules with a minimum support greater than 0.000001.\n",
    "rules = association_rules(frequent_itemsets, metric = 'support', min_threshold = 0.000001)\n",
    "\n",
    "# Plot leverage against confidence.\n",
    "plt.figure(figsize=(15,5))\n",
    "sns.scatterplot(x=\"leverage\", y=\"confidence\", data=rules)"
   ]
  },
  {
   "cell_type": "markdown",
   "metadata": {},
   "source": [
    "Leverage and confidence contain some of the same information about the strength of an association."
   ]
  },
  {
   "cell_type": "code",
   "execution_count": null,
   "metadata": {},
   "outputs": [],
   "source": []
  }
 ],
 "metadata": {
  "kernelspec": {
   "display_name": "Python 3",
   "language": "python",
   "name": "python3"
  },
  "language_info": {
   "codemirror_mode": {
    "name": "ipython",
    "version": 3
   },
   "file_extension": ".py",
   "mimetype": "text/x-python",
   "name": "python",
   "nbconvert_exporter": "python",
   "pygments_lexer": "ipython3",
   "version": "3.8.3"
  }
 },
 "nbformat": 4,
 "nbformat_minor": 4
}
